{
 "cells": [
  {
   "cell_type": "code",
   "execution_count": 1,
   "id": "cb02c08d",
   "metadata": {},
   "outputs": [],
   "source": [
    "import numpy as np\n",
    "import random\n",
    "from higherorder.structures.structures import Grid, Graph, Structure\n",
    "from higherorder.dynamics.model import Model\n",
    "import higherorder.analysis.ca as simulations\n",
    "from higherorder.dynamics.rules import *\n",
    "from higherorder.utils import *"
   ]
  },
  {
   "cell_type": "markdown",
   "id": "faa0a23e",
   "metadata": {},
   "source": [
    "## 1 blob grids"
   ]
  },
  {
   "cell_type": "code",
   "execution_count": 2,
   "id": "1deafe27",
   "metadata": {},
   "outputs": [],
   "source": [
    "height = 20\n",
    "width = 20\n",
    "\n",
    "grids1 = []\n",
    "for size in range(6,30):\n",
    "    for i in range(100): #1000\n",
    "        grid = simulations.random_1_blob(Grid(np.zeros((height, width))), size=size, seed=size*100+i)\n",
    "        grids1.append(grid)"
   ]
  },
  {
   "cell_type": "code",
   "execution_count": 3,
   "id": "3f3b3421",
   "metadata": {},
   "outputs": [],
   "source": [
    "save_init_grids(grids1, \"../data/oneblob_grids.json\")"
   ]
  },
  {
   "cell_type": "markdown",
   "id": "3da4abb6",
   "metadata": {},
   "source": [
    "## 2 blob grids"
   ]
  },
  {
   "cell_type": "code",
   "execution_count": 4,
   "id": "9c5fc84e",
   "metadata": {},
   "outputs": [],
   "source": [
    "height = 20\n",
    "width = 20\n",
    "size = 10\n",
    "grids2 = []\n",
    "for size in range(11,30):\n",
    "    for d in range(1, 11):\n",
    "        for i in range(100):\n",
    "            grid = simulations.random_2_blob(Grid(np.zeros((height, width))),\n",
    "                                             size_total = size,\n",
    "                                             distance= 10,\n",
    "                                             key=\"t_0\",\n",
    "                                             seed = size*1100+d*100+i,\n",
    "                                             return_components=False)\n",
    "            grids2.append(grid)"
   ]
  },
  {
   "cell_type": "code",
   "execution_count": 5,
   "id": "cf45a0a0",
   "metadata": {},
   "outputs": [],
   "source": [
    "save_init_grids(grids2, \"../data/twoblob_grids.json\")"
   ]
  },
  {
   "cell_type": "markdown",
   "id": "6f6af6f5",
   "metadata": {},
   "source": [
    "Modification of each 1-blob grid into a 2-blob grid:"
   ]
  },
  {
   "cell_type": "code",
   "execution_count": 6,
   "id": "890f966f",
   "metadata": {},
   "outputs": [],
   "source": [
    "grids3 = []\n",
    "for i, g in enumerate(grids1):\n",
    "    grid = g.copy()\n",
    "    d = random.randint(0, 100)\n",
    "    grid = simulations.random_2_blob(grid,\n",
    "                                     keep_grid = True,\n",
    "                                     distance= d,\n",
    "                                     key=\"t_0\",\n",
    "                                     seed = i,\n",
    "                                     return_components=False)\n",
    "    grids3.append(grid)"
   ]
  },
  {
   "cell_type": "code",
   "execution_count": 7,
   "id": "1a3ea825",
   "metadata": {},
   "outputs": [],
   "source": [
    "save_init_grids(grids3, \"../data/two_from_oneblob.json\")"
   ]
  }
 ],
 "metadata": {
  "kernelspec": {
   "display_name": "3.13.3",
   "language": "python",
   "name": "python3"
  },
  "language_info": {
   "codemirror_mode": {
    "name": "ipython",
    "version": 3
   },
   "file_extension": ".py",
   "mimetype": "text/x-python",
   "name": "python",
   "nbconvert_exporter": "python",
   "pygments_lexer": "ipython3",
   "version": "3.13.3"
  }
 },
 "nbformat": 4,
 "nbformat_minor": 5
}
