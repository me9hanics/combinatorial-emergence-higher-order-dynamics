{
 "cells": [
  {
   "cell_type": "code",
   "execution_count": 1,
   "metadata": {},
   "outputs": [],
   "source": [
    "import numpy as np\n",
    "import random\n",
    "from higherorder.structures.structures import Grid, Graph, Structure\n",
    "from higherorder.dynamics.model import Model\n",
    "import higherorder.analysis.ca as simulations\n",
    "from higherorder.dynamics.rules import *\n",
    "from higherorder.dynamics.impacts import *\n",
    "from higherorder.utils import *"
   ]
  },
  {
   "cell_type": "markdown",
   "id": "ad4defc7",
   "metadata": {},
   "source": [
    "Load randomly initialized grids"
   ]
  },
  {
   "cell_type": "code",
   "execution_count": 2,
   "metadata": {},
   "outputs": [],
   "source": [
    "grids_dicts1 = load_init_grid_dicts(\".\\\\data\\\\oneblob_grids.json\", listify=True)\n",
    "grids_dicts2 = load_init_grid_dicts(\".\\\\data\\\\twoblob_grids.json\", listify=True)\n",
    "grids_dicts3 = load_init_grid_dicts(\".\\\\data\\\\two_from_oneblob.json\", listify=True)"
   ]
  },
  {
   "cell_type": "markdown",
   "id": "729ab2a3",
   "metadata": {},
   "source": [
    "Cast back to grid"
   ]
  },
  {
   "cell_type": "code",
   "execution_count": 3,
   "metadata": {},
   "outputs": [],
   "source": [
    "height = 20\n",
    "width = 20\n",
    "\n",
    "grids1 = []\n",
    "for i in range(len(grids_dicts1)):\n",
    "    grids1.append(Grid(grids_dicts1[i], width=width, height=height))\n",
    "\n",
    "grids3 = []\n",
    "for i in range(len(grids_dicts3)):\n",
    "    grids3.append(Grid(grids_dicts3[i], width=width, height=height))"
   ]
  },
  {
   "cell_type": "markdown",
   "id": "38564bca",
   "metadata": {},
   "source": [
    "This takes considerably longer to load than the other two sources (19000 grids vs 2x2400 grids)"
   ]
  },
  {
   "cell_type": "code",
   "execution_count": null,
   "metadata": {},
   "outputs": [],
   "source": [
    "grids2 = []\n",
    "for i in range(len(grids_dicts2)):\n",
    "    grids2.append(Grid(grids_dicts2[i], width=width, height=height))"
   ]
  },
  {
   "cell_type": "markdown",
   "id": "8c03d755",
   "metadata": {},
   "source": [
    "Run Game of Life simulation till repeating structure - better would be till repeating blobs (but also consider e.g. non stop till blobs \"have a chance to meet\" e.g. go in the same direction)"
   ]
  },
  {
   "cell_type": "code",
   "execution_count": 4,
   "metadata": {},
   "outputs": [],
   "source": [
    "states1 = []\n",
    "impact1 = []\n",
    "for i in range(len(grids1)):\n",
    "    sim = Model(grids1[i], dynamics_func=game_of_life,)\n",
    "    sim.simulate_till_periodicity(store_impact=True, impact_function=game_of_life_impact)\n",
    "    states1.append(sim.structure.get_entities_states())\n",
    "    impact1.append(sim.impact)"
   ]
  },
  {
   "cell_type": "code",
   "execution_count": null,
   "metadata": {},
   "outputs": [],
   "source": [
    "states3 = []\n",
    "impact3 = []\n",
    "for i in range(len(grids3)):\n",
    "    sim = Model(grids3[i], dynamics_func=game_of_life,)\n",
    "    sim.simulate_till_periodicity(store_impact=True, impact_function=game_of_life_impact)\n",
    "    states3.append(sim.structure.get_entities_states())\n",
    "    impact3.append(sim.impact)"
   ]
  },
  {
   "cell_type": "code",
   "execution_count": null,
   "metadata": {},
   "outputs": [],
   "source": [
    "states2 = []\n",
    "impact2 = []\n",
    "for i in range(len(grids2)):\n",
    "    sim = Model(grids2[i], dynamics_func=game_of_life,)\n",
    "    sim.simulate_till_periodicity(store_impact=True, impact_function=game_of_life_impact)\n",
    "    states2.append(sim.structure.get_entities_states())\n",
    "    impact2.append(sim.impact)"
   ]
  },
  {
   "cell_type": "markdown",
   "id": "ba963e79",
   "metadata": {},
   "source": [
    "Across all examples: pick 2 random neighboring nodes (or aggregate across such) which:\n",
    "- did not impact each other\n",
    "- did impact each other\n",
    "- had turn off impact e.g.?\n",
    "- had 0,0 all the time\n",
    "- had 0,1 or 0,0 only\n",
    "- had 0,1 and 1,0 too\n",
    "- had 1,1\n",
    "\n",
    "Mutual information is enough?\n",
    "For not pairs, we would use HOI\n",
    "\n",
    "Watch out for time delay. Need to consider: spatially moving entropy?"
   ]
  },
  {
   "cell_type": "markdown",
   "id": "0058b323",
   "metadata": {},
   "source": [
    "## Analysis of the 8 cells around a target cell \n",
    "\n",
    "All possible combinations"
   ]
  },
  {
   "cell_type": "code",
   "execution_count": null,
   "metadata": {},
   "outputs": [],
   "source": [
    "def dec_to_bin(x, binary_length=9):\n",
    "    return np.array([int(b) for b in format(x, f'0{binary_length}b')])\n",
    "\n",
    "def bin_to_dec(bin, binary_length=9):\n",
    "    return sum([pow(2,binary_length-j-1)*i for j,i in enumerate(bin)])\n",
    "\n",
    "nodes = [(0,0), (0,1), (0,2), (1,0), (1,1), (1,2), (2,0), (2,1), (2,2)]\n",
    "states_all = []\n",
    "impacts_all = []\n",
    "categories = {}\n",
    "\n",
    "for i in range(512):\n",
    "    binary_vals = dec_to_bin(i)\n",
    "    initial_arr = np.zeros((3, 3))\n",
    "    for j in range(len(nodes)):\n",
    "        initial_arr[nodes[j]] = binary_vals[j]\n",
    "    grid = Grid(initial_arr, width=3, height=3)\n",
    "    sim = Model(grid, dynamics_func=game_of_life,)\n",
    "    sim.simulation(steps=1, store_impact=True, impact_function=game_of_life_impact)\n",
    "    states = sim.structure.get_time_slice(key_name=\"t_1\", only_nonzero=False)\n",
    "    states_all.append(states)\n",
    "    impacts_all.append(sim.impact)\n",
    "    \n",
    "    around = (binary_vals).copy()\n",
    "    around[4] = 0\n",
    "    s = np.sum(around)\n",
    "    if s not in categories.keys():\n",
    "        categories[s] = []\n",
    "    categories[s].append((binary_vals,states[(1,1)], sim.impact)) #TODO"
   ]
  },
  {
   "cell_type": "code",
   "execution_count": 91,
   "metadata": {},
   "outputs": [],
   "source": [
    "time_arrays = {}\n",
    "y_values = {}\n",
    "for n in range(9):\n",
    "    instances = len(categories[n])\n",
    "    time_array = np.zeros((instances, 9))\n",
    "    ys = np.zeros(instances)\n",
    "    for j,instance in enumerate(categories[n]):\n",
    "        for k in range(9):\n",
    "            time_array[j][k] = instance[0][k]\n",
    "        ys[j] = instance[1]\n",
    "    time_arrays[n] = time_array\n",
    "    y_values[n] = ys"
   ]
  },
  {
   "cell_type": "markdown",
   "id": "c7bf7e9e",
   "metadata": {},
   "source": [
    "Node may have impact on itself - implement"
   ]
  },
  {
   "cell_type": "code",
   "execution_count": null,
   "metadata": {},
   "outputs": [],
   "source": [
    "from hoi.metrics import Oinfo, GradientOinfo\n",
    "from hoi.simulation import simulate_hoi_gauss\n",
    "import matplotlib.pyplot as plt\n",
    "\n",
    "def compute_hoi_beh(x):\n",
    "    \"\"\"This function computes the HOI using the Oinfo.\"\"\"\n",
    "    model = Oinfo(x)\n",
    "    hoi = model.fit(method=\"gc\", minsize=3, maxsize=3)\n",
    "    return hoi.squeeze()\n",
    "\n",
    "def compute_hoi_enc(x, y):\n",
    "    \"\"\"This function computes the HOI using the Oinfo.\"\"\"\n",
    "    model = GradientOinfo(x, y)\n",
    "    hoi = model.fit(method=\"gc\", minsize=3, maxsize=3)\n",
    "    return hoi.squeeze()"
   ]
  },
  {
   "cell_type": "code",
   "execution_count": 120,
   "metadata": {},
   "outputs": [
    {
     "name": "stderr",
     "output_type": "stream",
     "text": [
      "    Copnorm and demean the data\n",
      "Get list of multiplets\n"
     ]
    },
    {
     "data": {
      "application/vnd.jupyter.widget-view+json": {
       "model_id": "67b7cd389ae14699b0e9fdd68154afc2",
       "version_major": 2,
       "version_minor": 0
      },
      "text/plain": [
       "  0%|          |  0/1 [00:00<?,       ?it/s]"
      ]
     },
     "metadata": {},
     "output_type": "display_data"
    },
    {
     "name": "stderr",
     "output_type": "stream",
     "text": [
      "    Copnorm and demean the data\n",
      "Get list of multiplets\n"
     ]
    },
    {
     "data": {
      "application/vnd.jupyter.widget-view+json": {
       "model_id": "aaf3017f0c4a4c77a146b8ec77a70765",
       "version_major": 2,
       "version_minor": 0
      },
      "text/plain": [
       "  0%|          |  0/1 [00:00<?,       ?it/s]"
      ]
     },
     "metadata": {},
     "output_type": "display_data"
    },
    {
     "data": {
      "text/plain": [
       "array([        nan,         nan,         nan,         nan,         nan,\n",
       "               nan,         nan,         nan,         nan,         nan,\n",
       "               nan,         nan,         nan,         nan,         nan,\n",
       "               nan,         nan,         nan,         nan,         nan,\n",
       "               nan,         nan,         nan,         nan,         nan,\n",
       "               nan,         nan,         nan,  1.1303711 ,  1.0745687 ,\n",
       "        1.0252914 ,  1.0031595 ,  0.98238564,  0.96058655,  0.90230656,\n",
       "        0.843091  ,  0.8106909 ,  0.77971077,  0.7465792 ,  0.70569324,\n",
       "        0.6743994 ,  0.6444597 ,  0.61329174,  0.5897932 ,  0.539732  ,\n",
       "        0.4842043 ,  0.48209476,  0.41862297,  0.35691833,  0.7773762 ,\n",
       "        0.6811085 ,  0.6483011 ,  0.61636066,  0.5812874 ,  0.6193905 ,\n",
       "        0.58688164,  0.55597496,  0.52381134,  0.44302845,  0.39468956,\n",
       "        0.33874893,  0.33684063,  0.27319908,  0.20243168,  0.5445099 ,\n",
       "        0.50988007,  0.47684097,  0.44213676,  0.3064804 ,  0.25603962,\n",
       "        0.19505692,  0.19453144,  0.1256876 ,  0.0412035 ,  0.4026003 ,\n",
       "        0.36455917,  0.32299995,  0.31479645,  0.2668352 ,  0.20969296,\n",
       "       -0.09539318, -0.20014   , -0.3443365 , -0.51405144], dtype=float32)"
      ]
     },
     "execution_count": 120,
     "metadata": {},
     "output_type": "execute_result"
    }
   ],
   "source": [
    "compute_hoi_enc(time_arrays[1], y_values[1])"
   ]
  },
  {
   "cell_type": "code",
   "execution_count": 117,
   "metadata": {},
   "outputs": [
    {
     "name": "stderr",
     "output_type": "stream",
     "text": [
      "    Copnorm and demean the data\n",
      "Get list of multiplets\n"
     ]
    },
    {
     "data": {
      "application/vnd.jupyter.widget-view+json": {
       "model_id": "ef551ce3ea754679af497aa33db0f949",
       "version_major": 2,
       "version_minor": 0
      },
      "text/plain": [
       "  0%|          |  0/1 [00:00<?,       ?it/s]"
      ]
     },
     "metadata": {},
     "output_type": "display_data"
    },
    {
     "name": "stderr",
     "output_type": "stream",
     "text": [
      "    Copnorm and demean the data\n",
      "Get list of multiplets\n"
     ]
    },
    {
     "data": {
      "application/vnd.jupyter.widget-view+json": {
       "model_id": "3c5671ebfe8e400c9d1d353a17954153",
       "version_major": 2,
       "version_minor": 0
      },
      "text/plain": [
       "  0%|          |  0/1 [00:00<?,       ?it/s]"
      ]
     },
     "metadata": {},
     "output_type": "display_data"
    },
    {
     "data": {
      "text/plain": [
       "array([ 0.3731699 ,  0.3656845 ,         nan,  0.35837555,  0.35298634,\n",
       "        0.3492098 ,  0.34614754,  0.30877686,         nan,  0.29081535,\n",
       "        0.28050232,  0.27330208,  0.26744747,         nan,  0.24810123,\n",
       "        0.23389244,  0.22396946,  0.21587181,         nan,         nan,\n",
       "               nan,         nan,  0.18430233,  0.17102146,  0.15992737,\n",
       "        0.14556885,  0.13316536,  0.11512184,  0.26466846,         nan,\n",
       "        0.24345398,  0.23511124,  0.22971725,  0.22560978,         nan,\n",
       "        0.20192337,  0.19025993,  0.1826067 ,  0.17666626,         nan,\n",
       "               nan,         nan,         nan,  0.13993073,  0.12931538,\n",
       "        0.12085629,  0.10938549,  0.10002232,  0.08637428,         nan,\n",
       "        0.1538353 ,  0.14197636,  0.13439941,  0.12864685,         nan,\n",
       "               nan,         nan,         nan,  0.08931732,  0.07918262,\n",
       "        0.07137108,  0.06192017,  0.0535078 ,  0.04179382,         nan,\n",
       "               nan,         nan,         nan,  0.04473782,  0.03398705,\n",
       "        0.02580547,  0.01749325,  0.00889683, -0.00238705,         nan,\n",
       "               nan,         nan,         nan,         nan,         nan,\n",
       "       -0.04944134, -0.05940819, -0.07192326, -0.08365822], dtype=float32)"
      ]
     },
     "execution_count": 117,
     "metadata": {},
     "output_type": "execute_result"
    }
   ],
   "source": [
    "compute_hoi_enc(time_arrays[2], y_values[2])"
   ]
  },
  {
   "cell_type": "code",
   "execution_count": 118,
   "metadata": {},
   "outputs": [
    {
     "name": "stderr",
     "output_type": "stream",
     "text": [
      "    Copnorm and demean the data\n",
      "Get list of multiplets\n"
     ]
    },
    {
     "data": {
      "application/vnd.jupyter.widget-view+json": {
       "model_id": "418c12ef2d764b92aed358dabc1e24ec",
       "version_major": 2,
       "version_minor": 0
      },
      "text/plain": [
       "  0%|          |  0/1 [00:00<?,       ?it/s]"
      ]
     },
     "metadata": {},
     "output_type": "display_data"
    },
    {
     "name": "stderr",
     "output_type": "stream",
     "text": [
      "    Copnorm and demean the data\n",
      "Get list of multiplets\n"
     ]
    },
    {
     "data": {
      "application/vnd.jupyter.widget-view+json": {
       "model_id": "1133f8f56f7349f4bfbd70949818eb8e",
       "version_major": 2,
       "version_minor": 0
      },
      "text/plain": [
       "  0%|          |  0/1 [00:00<?,       ?it/s]"
      ]
     },
     "metadata": {},
     "output_type": "display_data"
    },
    {
     "data": {
      "text/plain": [
       "array([        nan,         nan,         nan,  0.9465202 ,         nan,\n",
       "               nan,  0.1415298 ,         nan,         nan,  0.5197621 ,\n",
       "               nan,         nan, -0.29539216,         nan,  0.35373697,\n",
       "               nan,         nan, -0.46800327,  0.4485252 ,         nan,\n",
       "               nan, -0.35894197,         nan,         nan, -0.57748115,\n",
       "               nan, -0.5984609 , -0.6098037 ,  0.34148026,  0.42703533,\n",
       "        0.28529263,  0.2745905 ,  0.2679882 ,  0.26206875,  0.33910656,\n",
       "        0.16339684,  0.1498766 ,  0.14151287,  0.13400936,  0.28931427,\n",
       "        0.28025913,  0.27476597,  0.2698984 ,  0.06668377,  0.05688381,\n",
       "        0.04805851,  0.04120255,  0.03209877,  0.02162647,  0.2330246 ,\n",
       "        0.05193424,  0.03810406,  0.02951527,  0.02176857,  0.19037437,\n",
       "        0.17948818,  0.1729269 ,  0.16708279, -0.03341961, -0.04298687,\n",
       "       -0.05176067, -0.05588818, -0.06492615, -0.07493973,  0.14113331,\n",
       "        0.12922001,  0.12204647,  0.11566353, -0.08387566, -0.09335327,\n",
       "       -0.10211468, -0.10480881, -0.11381817, -0.1236105 ,  0.09182072,\n",
       "        0.08415699,  0.07732773,  0.070961  ,  0.06387043,  0.05555725,\n",
       "       -0.14049625, -0.14907265, -0.15786743, -0.16046429], dtype=float32)"
      ]
     },
     "execution_count": 118,
     "metadata": {},
     "output_type": "execute_result"
    }
   ],
   "source": [
    "compute_hoi_enc(time_arrays[3], y_values[3])"
   ]
  },
  {
   "cell_type": "code",
   "execution_count": 119,
   "metadata": {},
   "outputs": [
    {
     "name": "stderr",
     "output_type": "stream",
     "text": [
      "    Copnorm and demean the data\n",
      "Get list of multiplets\n"
     ]
    },
    {
     "data": {
      "application/vnd.jupyter.widget-view+json": {
       "model_id": "1a40c1c6243d4b32b20c35f306810c47",
       "version_major": 2,
       "version_minor": 0
      },
      "text/plain": [
       "  0%|          |  0/1 [00:00<?,       ?it/s]"
      ]
     },
     "metadata": {},
     "output_type": "display_data"
    },
    {
     "name": "stderr",
     "output_type": "stream",
     "text": [
      "    Copnorm and demean the data\n",
      "Get list of multiplets\n"
     ]
    },
    {
     "data": {
      "application/vnd.jupyter.widget-view+json": {
       "model_id": "9f3bc3f25a824bc1adec97ae08172885",
       "version_major": 2,
       "version_minor": 0
      },
      "text/plain": [
       "  0%|          |  0/1 [00:00<?,       ?it/s]"
      ]
     },
     "metadata": {},
     "output_type": "display_data"
    },
    {
     "data": {
      "text/plain": [
       "array([        nan,  0.9363835 ,         nan,         nan,  0.40497088,\n",
       "        0.9021014 ,         nan,  0.5244877 ,         nan,         nan,\n",
       "       -0.0325368 ,  0.4621721 ,         nan,         nan,         nan,\n",
       "       -0.2074275 ,  0.28585202,         nan,         nan, -0.07989901,\n",
       "        0.4169892 ,         nan, -0.29411027,  0.19806269,         nan,\n",
       "        0.18360436,         nan,         nan,  0.28214836,  0.38551235,\n",
       "        0.23414993,  0.22582245,  0.22037888,  0.21534538,  0.29978848,\n",
       "        0.11304283,  0.10269451,  0.09595013,  0.08970547,  0.26142025,\n",
       "        0.2545643 ,  0.2501917 ,  0.24619484,  0.03711319,  0.0294714 ,\n",
       "        0.0223875 ,  0.01824474,  0.01099205,  0.00294876,  0.19422245,\n",
       "        0.00376034, -0.00667095, -0.01345634, -0.01977444,  0.16207314,\n",
       "        0.15354443,  0.14823246,  0.14339924, -0.06040287, -0.06784248,\n",
       "       -0.07481861, -0.07711697, -0.08424091, -0.09192657,  0.11604404,\n",
       "        0.10676575,  0.10103321,  0.09583378, -0.08910751, -0.09591198,\n",
       "       -0.10233021, -0.10370922, -0.11023712, -0.11715031,  0.07823849,\n",
       "        0.07220745,  0.06675053,  0.06219482,  0.05657005,  0.05013084,\n",
       "       -0.12160683, -0.12767792, -0.1339426 , -0.13647556], dtype=float32)"
      ]
     },
     "execution_count": 119,
     "metadata": {},
     "output_type": "execute_result"
    }
   ],
   "source": [
    "compute_hoi_enc(time_arrays[4], y_values[4])"
   ]
  },
  {
   "cell_type": "markdown",
   "id": "9168de74",
   "metadata": {},
   "source": [
    "TODO check separately measures of redundancy, and synergy"
   ]
  },
  {
   "cell_type": "markdown",
   "id": "34206efd",
   "metadata": {},
   "source": [
    "Connect it with impact? e.g. impact can cover synergy, opposite can cover redundancy possibly? Only select impacts going to the target cell"
   ]
  },
  {
   "cell_type": "markdown",
   "id": "f34e24d6",
   "metadata": {},
   "source": [
    "## Other analysis"
   ]
  },
  {
   "cell_type": "markdown",
   "id": "d47aa2ac",
   "metadata": {},
   "source": []
  },
  {
   "cell_type": "code",
   "execution_count": null,
   "metadata": {},
   "outputs": [],
   "source": [
    "for i in range(height):\n",
    "    for j in range(width):\n",
    "        cell = (i, j)\n",
    "        pass"
   ]
  },
  {
   "cell_type": "markdown",
   "id": "030c5887",
   "metadata": {},
   "source": [
    "Variables array creation - watch out to store the same nodes in the same columns across arrays\n",
    "\n",
    "Then use HOI on random neighboring nodes, random nodes at distance d, then do the same with only \"inside blob only\" nodes (how?)"
   ]
  },
  {
   "cell_type": "code",
   "execution_count": null,
   "metadata": {},
   "outputs": [],
   "source": []
  },
  {
   "cell_type": "markdown",
   "id": "fd4b8244",
   "metadata": {},
   "source": [
    "Impact- into simulation functions as option, for now only GoL impact implementation."
   ]
  },
  {
   "cell_type": "code",
   "execution_count": null,
   "metadata": {},
   "outputs": [],
   "source": []
  }
 ],
 "metadata": {
  "kernelspec": {
   "display_name": "3.13.3",
   "language": "python",
   "name": "python3"
  },
  "language_info": {
   "codemirror_mode": {
    "name": "ipython",
    "version": 3
   },
   "file_extension": ".py",
   "mimetype": "text/x-python",
   "name": "python",
   "nbconvert_exporter": "python",
   "pygments_lexer": "ipython3",
   "version": "3.13.3"
  }
 },
 "nbformat": 4,
 "nbformat_minor": 5
}
