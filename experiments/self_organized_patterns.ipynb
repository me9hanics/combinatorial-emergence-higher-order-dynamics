{
 "cells": [
  {
   "cell_type": "code",
   "execution_count": 1,
   "metadata": {},
   "outputs": [],
   "source": [
    "import numpy as np\n",
    "import random\n",
    "from higherorder.structures.structures import Grid, Graph, Structure\n",
    "from higherorder.dynamics.model import Model\n",
    "import higherorder.analysis.ca as simulations\n",
    "from higherorder.dynamics.rules import *\n",
    "from higherorder.utils import *"
   ]
  },
  {
   "cell_type": "code",
   "execution_count": null,
   "metadata": {},
   "outputs": [],
   "source": [
    "grids_dicts1 = load_init_grid_dicts(\".\\data\\oneblob_grids.json\", listify=True)\n",
    "grids_dicts2 = load_init_grid_dicts(\".\\data\\twoblob_grids.json\", listify=True)\n",
    "grids_dicts3 = load_init_grid_dicts(\".\\data\\two_from_oneblob.json\", listify=True)"
   ]
  },
  {
   "cell_type": "markdown",
   "id": "fd4b8244",
   "metadata": {},
   "source": [
    "Impact- into simulation function; store key parameters\n",
    "\n",
    "Run simulations with GoL, till repetition"
   ]
  }
 ],
 "metadata": {
  "kernelspec": {
   "display_name": "3.13.3",
   "language": "python",
   "name": "python3"
  },
  "language_info": {
   "codemirror_mode": {
    "name": "ipython",
    "version": 3
   },
   "file_extension": ".py",
   "mimetype": "text/x-python",
   "name": "python",
   "nbconvert_exporter": "python",
   "pygments_lexer": "ipython3",
   "version": "3.13.3"
  }
 },
 "nbformat": 4,
 "nbformat_minor": 5
}
