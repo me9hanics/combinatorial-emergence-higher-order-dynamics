{
 "cells": [
  {
   "cell_type": "code",
   "execution_count": 1,
   "metadata": {},
   "outputs": [],
   "source": [
    "import numpy as np\n",
    "import random\n",
    "from higherorder.structures.structures import Grid, Graph, Structure\n",
    "from higherorder.dynamics.model import Model\n",
    "import higherorder.analysis.ca as simulations\n",
    "from higherorder.dynamics.rules import *\n",
    "from higherorder.dynamics.impacts import *\n",
    "from higherorder.utils import *"
   ]
  },
  {
   "cell_type": "markdown",
   "id": "ad4defc7",
   "metadata": {},
   "source": [
    "Load randomly initialized grids"
   ]
  },
  {
   "cell_type": "code",
   "execution_count": 2,
   "metadata": {},
   "outputs": [],
   "source": [
    "grids_dicts1 = load_init_grid_dicts(\".\\\\data\\\\oneblob_grids.json\", listify=True)\n",
    "grids_dicts2 = load_init_grid_dicts(\".\\\\data\\\\twoblob_grids.json\", listify=True)\n",
    "grids_dicts3 = load_init_grid_dicts(\".\\\\data\\\\two_from_oneblob.json\", listify=True)"
   ]
  },
  {
   "cell_type": "markdown",
   "id": "729ab2a3",
   "metadata": {},
   "source": [
    "Cast back to grid"
   ]
  },
  {
   "cell_type": "code",
   "execution_count": 3,
   "metadata": {},
   "outputs": [],
   "source": [
    "height = 20\n",
    "width = 20\n",
    "\n",
    "grids1 = []\n",
    "for i in range(len(grids_dicts1)):\n",
    "    grids1.append(Grid(grids_dicts1[i], width=width, height=height))\n",
    "\n",
    "grids3 = []\n",
    "for i in range(len(grids_dicts3)):\n",
    "    grids3.append(Grid(grids_dicts3[i], width=width, height=height))"
   ]
  },
  {
   "cell_type": "markdown",
   "id": "38564bca",
   "metadata": {},
   "source": [
    "This takes considerably longer to load than the other two sources (19000 grids vs 2x2400 grids)"
   ]
  },
  {
   "cell_type": "code",
   "execution_count": null,
   "metadata": {},
   "outputs": [],
   "source": [
    "grids2 = []\n",
    "for i in range(len(grids_dicts2)):\n",
    "    grids2.append(Grid(grids_dicts2[i], width=width, height=height))"
   ]
  },
  {
   "cell_type": "markdown",
   "id": "8c03d755",
   "metadata": {},
   "source": [
    "Run Game of Life simulation till repeating structure - better would be till repeating blobs (but also consider e.g. non stop till blobs \"have a chance to meet\" e.g. go in the same direction)"
   ]
  },
  {
   "cell_type": "code",
   "execution_count": 4,
   "metadata": {},
   "outputs": [],
   "source": [
    "states1 = []\n",
    "impact1 = []\n",
    "for i in range(len(grids1)):\n",
    "    sim = Model(grids1[i], dynamics_func=game_of_life,)\n",
    "    sim.simulate_till_periodicity(store_impact=True, impact_function=game_of_life_impact)\n",
    "    states1.append(sim.structure.get_entities_states())\n",
    "    impact1.append(sim.impact)"
   ]
  },
  {
   "cell_type": "code",
   "execution_count": null,
   "metadata": {},
   "outputs": [],
   "source": [
    "states3 = []\n",
    "impact3 = []\n",
    "for i in range(len(grids3)):\n",
    "    sim = Model(grids3[i], dynamics_func=game_of_life,)\n",
    "    sim.simulate_till_periodicity(store_impact=True, impact_function=game_of_life_impact)\n",
    "    states3.append(sim.structure.get_entities_states())\n",
    "    impact3.append(sim.impact)"
   ]
  },
  {
   "cell_type": "code",
   "execution_count": null,
   "metadata": {},
   "outputs": [],
   "source": [
    "states2 = []\n",
    "impact2 = []\n",
    "for i in range(len(grids2)):\n",
    "    sim = Model(grids2[i], dynamics_func=game_of_life,)\n",
    "    sim.simulate_till_periodicity(store_impact=True, impact_function=game_of_life_impact)\n",
    "    states2.append(sim.structure.get_entities_states())\n",
    "    impact2.append(sim.impact)"
   ]
  },
  {
   "cell_type": "markdown",
   "id": "ba963e79",
   "metadata": {},
   "source": [
    "Across all examples: pick 2 random neighboring nodes (or aggregate across such) which:\n",
    "- did not impact each other\n",
    "- did impact each other\n",
    "- had turn off impact e.g.?\n",
    "- had 0,0 all the time\n",
    "- had 0,1 or 0,0 only\n",
    "- had 0,1 and 1,0 too\n",
    "- had 1,1\n",
    "\n",
    "Mutual information is enough?\n",
    "For not pairs, we would use HOI\n",
    "\n",
    "Watch out for time delay"
   ]
  },
  {
   "cell_type": "markdown",
   "id": "6140aba6",
   "metadata": {},
   "source": [
    "HOI: Example: there is a target, we measure the impact of the 8 nodes around it.<br>\n",
    "Need to consider: spatially moving entropy?\n",
    "\n",
    "Connect it with impact? e.g. impact can cover synergy, opposite can cover redundancy possibly?"
   ]
  },
  {
   "cell_type": "code",
   "execution_count": null,
   "metadata": {},
   "outputs": [],
   "source": [
    "for i in range(height):\n",
    "    for j in range(width):\n",
    "        cell = (i, j)\n",
    "        pass"
   ]
  },
  {
   "cell_type": "markdown",
   "id": "030c5887",
   "metadata": {},
   "source": [
    "Variables array creation - watch out to store the same nodes in the same columns across arrays\n",
    "\n",
    "Then use HOI on random neighboring nodes, random nodes at distance d, then do the same with only \"inside blob only\" nodes (how?)"
   ]
  },
  {
   "cell_type": "code",
   "execution_count": null,
   "metadata": {},
   "outputs": [],
   "source": []
  },
  {
   "cell_type": "markdown",
   "id": "fd4b8244",
   "metadata": {},
   "source": [
    "Impact- into simulation functions as option, for now only GoL impact implementation."
   ]
  },
  {
   "cell_type": "code",
   "execution_count": null,
   "metadata": {},
   "outputs": [],
   "source": []
  }
 ],
 "metadata": {
  "kernelspec": {
   "display_name": "3.13.3",
   "language": "python",
   "name": "python3"
  },
  "language_info": {
   "codemirror_mode": {
    "name": "ipython",
    "version": 3
   },
   "file_extension": ".py",
   "mimetype": "text/x-python",
   "name": "python",
   "nbconvert_exporter": "python",
   "pygments_lexer": "ipython3",
   "version": "3.13.3"
  }
 },
 "nbformat": 4,
 "nbformat_minor": 5
}
