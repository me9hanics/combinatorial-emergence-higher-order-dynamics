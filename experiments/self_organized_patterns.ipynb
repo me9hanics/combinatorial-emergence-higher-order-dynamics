{
 "cells": [
  {
   "cell_type": "code",
   "execution_count": 1,
   "metadata": {},
   "outputs": [],
   "source": [
    "import numpy as np\n",
    "import random\n",
    "from higherorder.structures.structures import Grid, Graph, Structure\n",
    "from higherorder.dynamics.model import Model\n",
    "import higherorder.analysis.ca as simulations\n",
    "from higherorder.dynamics.rules import *\n",
    "from higherorder.dynamics.impacts import *\n",
    "from higherorder.utils import *"
   ]
  },
  {
   "cell_type": "markdown",
   "id": "ad4defc7",
   "metadata": {},
   "source": [
    "Load randomly initialized grids"
   ]
  },
  {
   "cell_type": "code",
   "execution_count": 2,
   "metadata": {},
   "outputs": [],
   "source": [
    "grids_dicts1 = load_init_grid_dicts(\".\\\\data\\\\oneblob_grids.json\", listify=True)\n",
    "grids_dicts2 = load_init_grid_dicts(\".\\\\data\\\\twoblob_grids.json\", listify=True)\n",
    "grids_dicts3 = load_init_grid_dicts(\".\\\\data\\\\two_from_oneblob.json\", listify=True)"
   ]
  },
  {
   "cell_type": "markdown",
   "id": "729ab2a3",
   "metadata": {},
   "source": [
    "Cast back to grid"
   ]
  },
  {
   "cell_type": "code",
   "execution_count": 3,
   "metadata": {},
   "outputs": [],
   "source": [
    "height = 20\n",
    "width = 20\n",
    "\n",
    "grids1 = []\n",
    "for i in range(len(grids_dicts1)):\n",
    "    grids1.append(Grid(grids_dicts1[i], width=width, height=height))\n",
    "\n",
    "grids3 = []\n",
    "for i in range(len(grids_dicts3)):\n",
    "    grids3.append(Grid(grids_dicts3[i], width=width, height=height))"
   ]
  },
  {
   "cell_type": "markdown",
   "id": "38564bca",
   "metadata": {},
   "source": [
    "This takes considerably longer to load than the other two sources (19000 grids vs 2x2400 grids)"
   ]
  },
  {
   "cell_type": "code",
   "execution_count": null,
   "metadata": {},
   "outputs": [],
   "source": [
    "grids2 = []\n",
    "for i in range(len(grids_dicts2)):\n",
    "    grids2.append(Grid(grids_dicts2[i], width=width, height=height))"
   ]
  },
  {
   "cell_type": "markdown",
   "id": "8c03d755",
   "metadata": {},
   "source": [
    "Run Game of Life simulation till repeating structure - better would be till repeating blobs (but also consider e.g. non stop till blobs \"have a chance to meet\" e.g. go in the same direction)"
   ]
  },
  {
   "cell_type": "code",
   "execution_count": 4,
   "metadata": {},
   "outputs": [],
   "source": [
    "states1 = []\n",
    "impact1 = []\n",
    "for i in range(len(grids1)):\n",
    "    sim = Model(grids1[i], dynamics_func=game_of_life,)\n",
    "    sim.simulate_till_periodicity(store_impact=True, impact_function=game_of_life_impact)\n",
    "    states1.append(sim.structure.get_entities_states())\n",
    "    impact1.append(sim.impact)"
   ]
  },
  {
   "cell_type": "code",
   "execution_count": null,
   "metadata": {},
   "outputs": [],
   "source": [
    "states3 = []\n",
    "impact3 = []\n",
    "for i in range(len(grids3)):\n",
    "    sim = Model(grids3[i], dynamics_func=game_of_life,)\n",
    "    sim.simulate_till_periodicity(store_impact=True, impact_function=game_of_life_impact)\n",
    "    states3.append(sim.structure.get_entities_states())\n",
    "    impact3.append(sim.impact)"
   ]
  },
  {
   "cell_type": "code",
   "execution_count": null,
   "metadata": {},
   "outputs": [],
   "source": [
    "states2 = []\n",
    "impact2 = []\n",
    "for i in range(len(grids2)):\n",
    "    sim = Model(grids2[i], dynamics_func=game_of_life,)\n",
    "    sim.simulate_till_periodicity(store_impact=True, impact_function=game_of_life_impact)\n",
    "    states2.append(sim.structure.get_entities_states())\n",
    "    impact2.append(sim.impact)"
   ]
  },
  {
   "cell_type": "markdown",
   "id": "ba963e79",
   "metadata": {},
   "source": [
    "Across all examples: pick 2 random neighboring nodes (or aggregate across such) which:\n",
    "- did not impact each other\n",
    "- did impact each other\n",
    "- had turn off impact e.g.?\n",
    "- had 0,0 all the time\n",
    "- had 0,1 or 0,0 only\n",
    "- had 0,1 and 1,0 too\n",
    "- had 1,1\n",
    "\n",
    "Mutual information is enough?\n",
    "For not pairs, we would use HOI\n",
    "\n",
    "Watch out for time delay. Need to consider: spatially moving entropy?"
   ]
  },
  {
   "cell_type": "markdown",
   "id": "0058b323",
   "metadata": {},
   "source": [
    "## Analysis of the 8 cells around a target cell \n",
    "\n",
    "All possible combinations"
   ]
  },
  {
   "cell_type": "code",
   "execution_count": null,
   "metadata": {},
   "outputs": [],
   "source": [
    "def dec_to_bin(x, binary_length=9):\n",
    "    return np.array([int(b) for b in format(x, f'0{binary_length}b')])\n",
    "\n",
    "def bin_to_dec(bin, binary_length=9):\n",
    "    return sum([pow(2,binary_length-j-1)*i for j,i in enumerate(bin)])\n",
    "\n",
    "nodes = [(0,0), (0,1), (0,2), (1,0), (1,1), (1,2), (2,0), (2,1), (2,2)]\n",
    "states_all = []\n",
    "impacts_all = []\n",
    "categories = {}\n",
    "\n",
    "for i in range(512):\n",
    "    binary_vals = dec_to_bin(i)\n",
    "    initial_arr = np.zeros((3, 3))\n",
    "    for j in range(len(nodes)):\n",
    "        initial_arr[nodes[j]] = binary_vals[j]\n",
    "    grid = Grid(initial_arr, width=3, height=3)\n",
    "    sim = Model(grid, dynamics_func=game_of_life,)\n",
    "    sim.simulation(steps=1, store_impact=True, impact_function=game_of_life_impact)\n",
    "    states = sim.structure.get_time_slice(key_name=\"t_1\", only_nonzero=False)\n",
    "    states_all.append(states)\n",
    "    impacts_all.append(sim.impact)\n",
    "    \n",
    "    around = (binary_vals).copy()\n",
    "    around[4] = 0\n",
    "    s = np.sum(around)\n",
    "    if s not in categories.keys():\n",
    "        categories[s] = []\n",
    "    categories[s].append((binary_vals,states[(1,1)], sim.impact)) #TODO"
   ]
  },
  {
   "cell_type": "code",
   "execution_count": 91,
   "metadata": {},
   "outputs": [],
   "source": [
    "time_arrays = {}\n",
    "y_values = {}\n",
    "for n in range(9):\n",
    "    instances = len(categories[n])\n",
    "    time_array = np.zeros((instances, 9))\n",
    "    ys = np.zeros(instances)\n",
    "    for j,instance in enumerate(categories[n]):\n",
    "        for k in range(9):\n",
    "            time_array[j][k] = instance[0][k]\n",
    "        ys[j] = instance[1]\n",
    "    time_arrays[n] = time_array\n",
    "    y_values[n] = ys"
   ]
  },
  {
   "cell_type": "markdown",
   "id": "c39c920c",
   "metadata": {},
   "source": [
    "1) Synergy and redundancy separately"
   ]
  },
  {
   "cell_type": "code",
   "execution_count": 177,
   "metadata": {},
   "outputs": [],
   "source": [
    "from hoi.metrics import DTC, TC, RedundancyMMI, SynergyMMI"
   ]
  },
  {
   "cell_type": "markdown",
   "id": "c7bf7e9e",
   "metadata": {},
   "source": [
    "Node may have impact on itself - implement"
   ]
  },
  {
   "cell_type": "markdown",
   "id": "3acb489f",
   "metadata": {},
   "source": [
    "2) Finish HOI, make plot of points, e.g. comparing"
   ]
  },
  {
   "cell_type": "code",
   "execution_count": null,
   "metadata": {},
   "outputs": [],
   "source": [
    "from hoi.metrics import Oinfo, GradientOinfo\n",
    "from hoi.simulation import simulate_hoi_gauss\n",
    "import matplotlib.pyplot as plt\n",
    "\n",
    "def compute_hoi_beh(x):\n",
    "    \"\"\"This function computes the HOI using the Oinfo.\"\"\"\n",
    "    model = Oinfo(x)\n",
    "    hoi = model.fit(method=\"binning\", minsize=3, maxsize=3)\n",
    "    return hoi.squeeze()\n",
    "\n",
    "def compute_hoi_enc(x, y):\n",
    "    \"\"\"This function computes the HOI using the Oinfo.\"\"\"\n",
    "    model = GradientOinfo(x, y)\n",
    "    hoi = model.fit(method=\"binning\", minsize=3, maxsize=3)\n",
    "    return hoi.squeeze()\n",
    "\n",
    "def compute_hoi_enc_nonflat(x, y):\n",
    "    \"\"\"This function computes the HOI using the Oinfo.\"\"\"\n",
    "    model = GradientOinfo(x, y)\n",
    "    hoi = model.fit(method=\"binning\", minsize=3, maxsize=3)\n",
    "    return hoi\n",
    "\n",
    "\n",
    "birth_array = np.array([[1, 1, 1], \n",
    "                        [1, 1, 0], \n",
    "                        [1, 0, 1],\n",
    "                        [0, 1, 1]])\n",
    "#birth_array = np.concatenate([birth_array, birth_array, birth_array, birth_array, birth_array], axis=1)\n",
    "birth_target = np.array([1, 0, 0, 0])\n",
    "\n",
    "birth_hoi = compute_hoi_enc_nonflat(birth_array, birth_target)[0][0]\n",
    "print(birth_hoi)\n",
    "\n",
    "kill_array = np.array([[1, 1, 1, 1],\n",
    "                        [1, 1, 1, 0], \n",
    "                        [1, 1, 0, 1],\n",
    "                        [1, 0, 1, 1]])\n",
    "kill_target = np.array([0, 1, 1, 1])\n",
    "kill_hoi = max(compute_hoi_enc_nonflat(kill_array, kill_target))[0]\n",
    "print(kill_hoi)\n",
    "\n",
    "redundancy_kill_array = np.array([[1, 1, 1, 1, 1],\n",
    "                                  [1, 1, 1, 1, 0],\n",
    "                                  [1, 1, 1, 0, 1], \n",
    "                                  [1, 1, 0, 1, 1],\n",
    "                                  [1, 0, 1, 1, 1],\n",
    "                                  [0, 1, 1, 1, 0], # for comparison\n",
    "                                  ])\n",
    "redundancy_kill_target = np.array([0, 0, 0, 0, 0, 1])\n",
    "redundancy_kill_hoi = (compute_hoi_enc_nonflat(redundancy_kill_array, redundancy_kill_target))\n",
    "#nonactive_redundancy_live"
   ]
  },
  {
   "cell_type": "code",
   "execution_count": 193,
   "metadata": {},
   "outputs": [
    {
     "data": {
      "text/plain": [
       "array([[ 0.10917044],\n",
       "       [ 0.10917044],\n",
       "       [ 0.316689  ],\n",
       "       [ 0.10917044],\n",
       "       [ 0.316689  ],\n",
       "       [ 0.316689  ],\n",
       "       [-0.05423784],\n",
       "       [ 0.10917044],\n",
       "       [ 0.10917044],\n",
       "       [ 0.10917044]], dtype=float32)"
      ]
     },
     "execution_count": 193,
     "metadata": {},
     "output_type": "execute_result"
    }
   ],
   "source": [
    "redundancy_kill_hoi"
   ]
  },
  {
   "cell_type": "markdown",
   "id": "9168de74",
   "metadata": {},
   "source": [
    "TODO check separately measures of redundancy, and synergy"
   ]
  },
  {
   "cell_type": "markdown",
   "id": "6777e444",
   "metadata": {},
   "source": [
    "TC: total correlation, associated with redundancy; high -> high strength of collective constraints\n",
    "\n",
    "DTC: low -> high synergy\n",
    "\n",
    "RSI: redundancy synergy index\n",
    "\n",
    "RedundancyMMI, SynergyMMI"
   ]
  },
  {
   "cell_type": "markdown",
   "id": "6374f4ed",
   "metadata": {},
   "source": [
    "Try DTC, TC, and RedundancyMMI and SynergyMMI"
   ]
  },
  {
   "cell_type": "markdown",
   "id": "608e61ba",
   "metadata": {},
   "source": [
    "\n",
    "Combine two \"neighboring\" categories for better analysis"
   ]
  },
  {
   "cell_type": "markdown",
   "id": "ff34b5ca",
   "metadata": {},
   "source": [
    "3)  Group theory: 3.1 check gliders in and out impact, and other self-ref machines\n",
    "4) take many generated self-ref"
   ]
  },
  {
   "cell_type": "markdown",
   "id": "34206efd",
   "metadata": {},
   "source": [
    "Connect it with impact? e.g. impact can cover synergy, opposite can cover redundancy possibly? Only select impacts going to the target cell"
   ]
  },
  {
   "cell_type": "markdown",
   "id": "f34e24d6",
   "metadata": {},
   "source": [
    "## Other analysis"
   ]
  },
  {
   "cell_type": "markdown",
   "id": "d47aa2ac",
   "metadata": {},
   "source": []
  },
  {
   "cell_type": "code",
   "execution_count": null,
   "metadata": {},
   "outputs": [],
   "source": [
    "for i in range(height):\n",
    "    for j in range(width):\n",
    "        cell = (i, j)\n",
    "        pass"
   ]
  },
  {
   "cell_type": "markdown",
   "id": "030c5887",
   "metadata": {},
   "source": [
    "Variables array creation - watch out to store the same nodes in the same columns across arrays\n",
    "\n",
    "Then use HOI on random neighboring nodes, random nodes at distance d, then do the same with only \"inside blob only\" nodes (how?)"
   ]
  },
  {
   "cell_type": "code",
   "execution_count": null,
   "metadata": {},
   "outputs": [],
   "source": []
  },
  {
   "cell_type": "markdown",
   "id": "fd4b8244",
   "metadata": {},
   "source": [
    "Impact- into simulation functions as option, for now only GoL impact implementation."
   ]
  },
  {
   "cell_type": "code",
   "execution_count": null,
   "metadata": {},
   "outputs": [],
   "source": []
  }
 ],
 "metadata": {
  "kernelspec": {
   "display_name": "3.13.3",
   "language": "python",
   "name": "python3"
  },
  "language_info": {
   "codemirror_mode": {
    "name": "ipython",
    "version": 3
   },
   "file_extension": ".py",
   "mimetype": "text/x-python",
   "name": "python",
   "nbconvert_exporter": "python",
   "pygments_lexer": "ipython3",
   "version": "3.13.3"
  }
 },
 "nbformat": 4,
 "nbformat_minor": 5
}
